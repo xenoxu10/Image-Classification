{
 "cells": [
  {
   "cell_type": "markdown",
   "id": "4450267b-4723-44d9-af0e-6bef63c53155",
   "metadata": {},
   "source": [
    "Setup and Load Data"
   ]
  },
  {
   "cell_type": "code",
   "execution_count": 1,
   "id": "bccebdd8-e039-4436-b82c-f8011ed07548",
   "metadata": {},
   "outputs": [],
   "source": [
    "import tensorflow as tf\n",
    "import os"
   ]
  },
  {
   "cell_type": "code",
   "execution_count": 2,
   "id": "8f629034-a01d-4045-9589-d2a3a88ddd28",
   "metadata": {},
   "outputs": [],
   "source": [
    "gpus=tf.config.experimental.list_physical_devices('GPU')\n",
    "for gpu in gpus:\n",
    "    tf.config.experimental.set_memory_growth(gpu,True)"
   ]
  },
  {
   "cell_type": "markdown",
   "id": "26b64ace-2c93-47a6-98bb-4472a35987a7",
   "metadata": {},
   "source": [
    "Remove Dodgy images"
   ]
  },
  {
   "cell_type": "code",
   "execution_count": 3,
   "id": "9e1832d8-8196-40ab-862b-66427b923b91",
   "metadata": {},
   "outputs": [],
   "source": [
    "import cv2"
   ]
  },
  {
   "cell_type": "code",
   "execution_count": 4,
   "id": "ceccabea-1473-4a9c-8f5d-0f261530b062",
   "metadata": {},
   "outputs": [],
   "source": [
    "import imghdr"
   ]
  },
  {
   "cell_type": "code",
   "execution_count": 5,
   "id": "e8ea3b28-2f8d-4dc1-8409-d72654ae278b",
   "metadata": {},
   "outputs": [],
   "source": [
    "data_dir='C:\\\\Users\\\\91954\\\\OneDrive\\\\Desktop\\\\datasets\\\\data\\\\'"
   ]
  },
  {
   "cell_type": "code",
   "execution_count": 6,
   "id": "2293f3c5-8b07-4ac6-8c12-f5b2840db5ed",
   "metadata": {},
   "outputs": [
    {
     "data": {
      "text/plain": [
       "['Happy People', 'Sad People']"
      ]
     },
     "execution_count": 6,
     "metadata": {},
     "output_type": "execute_result"
    }
   ],
   "source": [
    "os.listdir(data_dir)"
   ]
  },
  {
   "cell_type": "code",
   "execution_count": 7,
   "id": "eb252bee-a042-4182-b619-a0dc6026df7d",
   "metadata": {},
   "outputs": [],
   "source": [
    "image_exts=['jpeg','png','bmp','jpg']"
   ]
  },
  {
   "cell_type": "code",
   "execution_count": 8,
   "id": "3a929935-a6f9-45b5-98be-c9a478e85f00",
   "metadata": {},
   "outputs": [],
   "source": [
    "for image_class in os.listdir(data_dir):\n",
    "    for image in os.listdir(os.path.join(data_dir,image_class)):\n",
    "        path=os.path.join(data_dir,image_class)\n",
    "        \n",
    "        image_path=os.path.join(path,image)\n",
    "        try:\n",
    "            img=cv2.imread(image_path)\n",
    "            tip=imghdr.what(image_path)\n",
    "            if tip not in image_exts:\n",
    "                print(\"Image not in exts list { }\".format(image_path))\n",
    "                os.remove(image_path)\n",
    "        except Exception as e:\n",
    "            print(\"issue with image {}\".format(image_path))\n",
    "            os.remove(image_path)"
   ]
  },
  {
   "cell_type": "markdown",
   "id": "23b4aa30-ef80-4a54-9ebf-a9428a80e61d",
   "metadata": {},
   "source": [
    "Load Data"
   ]
  },
  {
   "cell_type": "code",
   "execution_count": 9,
   "id": "71f58628-728d-4935-8230-7caedcbe729b",
   "metadata": {},
   "outputs": [],
   "source": [
    "import keras\n",
    "import numpy as np\n",
    "import matplotlib.pyplot as plt"
   ]
  },
  {
   "cell_type": "code",
   "execution_count": 10,
   "id": "9bd23ce4-2d96-4841-952d-aa208545c7ff",
   "metadata": {},
   "outputs": [
    {
     "name": "stdout",
     "output_type": "stream",
     "text": [
      "Found 209 files belonging to 2 classes.\n"
     ]
    }
   ],
   "source": [
    "data=tf.keras.utils.image_dataset_from_directory(data_dir)"
   ]
  },
  {
   "cell_type": "code",
   "execution_count": 11,
   "id": "e98f41b9-56c8-4043-a6ff-449f7af86297",
   "metadata": {},
   "outputs": [
    {
     "data": {
      "text/plain": [
       "<BatchDataset element_spec=(TensorSpec(shape=(None, 256, 256, 3), dtype=tf.float32, name=None), TensorSpec(shape=(None,), dtype=tf.int32, name=None))>"
      ]
     },
     "execution_count": 11,
     "metadata": {},
     "output_type": "execute_result"
    }
   ],
   "source": [
    "data"
   ]
  },
  {
   "cell_type": "code",
   "execution_count": 12,
   "id": "3808526b-a625-4f34-9a3e-ab56ad3bb51b",
   "metadata": {},
   "outputs": [],
   "source": [
    "data_iterator=data.as_numpy_iterator()"
   ]
  },
  {
   "cell_type": "code",
   "execution_count": 13,
   "id": "741cc752-23db-4780-a271-1620f62bb88f",
   "metadata": {},
   "outputs": [
    {
     "data": {
      "text/plain": [
       "<tensorflow.python.data.ops.dataset_ops._NumpyIterator at 0x27fbc8acee0>"
      ]
     },
     "execution_count": 13,
     "metadata": {},
     "output_type": "execute_result"
    }
   ],
   "source": [
    "data_iterator"
   ]
  },
  {
   "cell_type": "code",
   "execution_count": 14,
   "id": "60fa7454-2c50-4e27-aba4-4d2f8e5ffc36",
   "metadata": {},
   "outputs": [],
   "source": [
    "batch=data_iterator.next()"
   ]
  },
  {
   "cell_type": "code",
   "execution_count": 15,
   "id": "7d9cde27-9a8b-4283-8a35-2bd1cfec1869",
   "metadata": {},
   "outputs": [
    {
     "data": {
      "text/plain": [
       "(32,)"
      ]
     },
     "execution_count": 15,
     "metadata": {},
     "output_type": "execute_result"
    }
   ],
   "source": [
    "batch[1].shape"
   ]
  },
  {
   "cell_type": "markdown",
   "id": "3156b4a3-7bd0-4814-be5c-1aab62ec3fa3",
   "metadata": {},
   "source": [
    "Preprocess Data"
   ]
  },
  {
   "cell_type": "code",
   "execution_count": 16,
   "id": "f8553f35-aa76-4c94-8c7f-448a2c8a8ea6",
   "metadata": {},
   "outputs": [],
   "source": [
    "data=data.map(lambda x,y:(x/255,y))"
   ]
  },
  {
   "cell_type": "code",
   "execution_count": 17,
   "id": "25bd1cbd-e688-4f1c-a561-e166e7f23f28",
   "metadata": {},
   "outputs": [],
   "source": [
    "scaled_iterator=data.as_numpy_iterator()\n",
    "batch=scaled_iterator.next()"
   ]
  },
  {
   "cell_type": "markdown",
   "id": "6d1c1e74-0a6a-4bba-8463-436a5997974e",
   "metadata": {},
   "source": [
    "Split Data"
   ]
  },
  {
   "cell_type": "code",
   "execution_count": 18,
   "id": "ab2302a2-d23b-48f7-b7c5-b44cbd3084ae",
   "metadata": {},
   "outputs": [],
   "source": [
    "sz=len(data)\n",
    "train_size=int(sz*0.7)\n",
    "val_size=int(sz*0.2)+1\n",
    "test_size=int(sz*0.1)+1"
   ]
  },
  {
   "cell_type": "code",
   "execution_count": 19,
   "id": "4cbc752a-6fa4-4714-88f4-98df8671a5af",
   "metadata": {},
   "outputs": [],
   "source": [
    "train=data.take(train_size)\n",
    "val=data.skip(train_size).take(val_size)\n",
    "test=data.skip(train_size+val_size).take(test_size)"
   ]
  },
  {
   "cell_type": "code",
   "execution_count": 20,
   "id": "4061bd59-ddaf-4365-b8d8-b520a6af8430",
   "metadata": {},
   "outputs": [
    {
     "data": {
      "text/plain": [
       "1"
      ]
     },
     "execution_count": 20,
     "metadata": {},
     "output_type": "execute_result"
    }
   ],
   "source": [
    "len(test)"
   ]
  },
  {
   "cell_type": "markdown",
   "id": "d2d5be08-6652-4d5f-bb96-da1b225b0e2e",
   "metadata": {},
   "source": [
    "Deep Model"
   ]
  },
  {
   "cell_type": "code",
   "execution_count": 21,
   "id": "e1be85bd-2291-4535-bc2b-7a43303d1daa",
   "metadata": {},
   "outputs": [],
   "source": [
    "from tensorflow.keras.models import Sequential\n",
    "from tensorflow.keras.layers import Conv2D,MaxPooling2D,Dense,Flatten,Dropout"
   ]
  },
  {
   "cell_type": "code",
   "execution_count": 22,
   "id": "dc814df6-c46b-4062-9220-fd3f56b21154",
   "metadata": {},
   "outputs": [],
   "source": [
    "model=Sequential()"
   ]
  },
  {
   "cell_type": "code",
   "execution_count": 23,
   "id": "0d960916-4f21-4b8b-8e80-bc53231723bf",
   "metadata": {},
   "outputs": [],
   "source": [
    "model.add(Conv2D(16,(3,3),1,activation='relu',input_shape=(256,256,3)))\n",
    "model.add(MaxPooling2D())\n",
    "\n",
    "model.add(Conv2D(32,(3,3),1,activation='relu'))\n",
    "model.add(MaxPooling2D())\n",
    "\n",
    "model.add(Conv2D(16,(3,3),1,activation='relu'))\n",
    "model.add(MaxPooling2D())\n",
    "\n",
    "model.add(Flatten())\n",
    "model.add(Dense(256,activation='relu'))\n",
    "model.add(Dense(1,activation='sigmoid'))\n"
   ]
  },
  {
   "cell_type": "code",
   "execution_count": 24,
   "id": "5107a3a8-89bb-40a2-8cda-ec841ff28af8",
   "metadata": {},
   "outputs": [],
   "source": [
    "model.compile('adam',loss=tf.losses.BinaryCrossentropy(),metrics=['accuracy'])"
   ]
  },
  {
   "cell_type": "code",
   "execution_count": 25,
   "id": "5c05ea03-6d90-4c32-b252-36217fddfec7",
   "metadata": {},
   "outputs": [
    {
     "name": "stdout",
     "output_type": "stream",
     "text": [
      "Model: \"sequential\"\n",
      "_________________________________________________________________\n",
      " Layer (type)                Output Shape              Param #   \n",
      "=================================================================\n",
      " conv2d (Conv2D)             (None, 254, 254, 16)      448       \n",
      "                                                                 \n",
      " max_pooling2d (MaxPooling2D  (None, 127, 127, 16)     0         \n",
      " )                                                               \n",
      "                                                                 \n",
      " conv2d_1 (Conv2D)           (None, 125, 125, 32)      4640      \n",
      "                                                                 \n",
      " max_pooling2d_1 (MaxPooling  (None, 62, 62, 32)       0         \n",
      " 2D)                                                             \n",
      "                                                                 \n",
      " conv2d_2 (Conv2D)           (None, 60, 60, 16)        4624      \n",
      "                                                                 \n",
      " max_pooling2d_2 (MaxPooling  (None, 30, 30, 16)       0         \n",
      " 2D)                                                             \n",
      "                                                                 \n",
      " flatten (Flatten)           (None, 14400)             0         \n",
      "                                                                 \n",
      " dense (Dense)               (None, 256)               3686656   \n",
      "                                                                 \n",
      " dense_1 (Dense)             (None, 1)                 257       \n",
      "                                                                 \n",
      "=================================================================\n",
      "Total params: 3,696,625\n",
      "Trainable params: 3,696,625\n",
      "Non-trainable params: 0\n",
      "_________________________________________________________________\n"
     ]
    }
   ],
   "source": [
    "model.summary()"
   ]
  },
  {
   "cell_type": "markdown",
   "id": "5fb138ab-9af6-41d8-bb22-fa3301556797",
   "metadata": {},
   "source": [
    "Train"
   ]
  },
  {
   "cell_type": "code",
   "execution_count": 26,
   "id": "15e6b84c-71da-4908-9d92-3cd5951c438b",
   "metadata": {},
   "outputs": [],
   "source": [
    "logdir='logs'"
   ]
  },
  {
   "cell_type": "code",
   "execution_count": 27,
   "id": "79546aa9-1a96-460c-84e8-7680e5c08ee5",
   "metadata": {},
   "outputs": [],
   "source": [
    "tensorboard_callback=tf.keras.callbacks.TensorBoard(log_dir=logdir)"
   ]
  },
  {
   "cell_type": "code",
   "execution_count": 28,
   "id": "da305695-5625-40ca-a4cc-c9ff9eea0953",
   "metadata": {},
   "outputs": [
    {
     "name": "stdout",
     "output_type": "stream",
     "text": [
      "Epoch 1/20\n",
      "4/4 [==============================] - 6s 1s/step - loss: 1.1797 - accuracy: 0.4531 - val_loss: 0.7056 - val_accuracy: 0.4531\n",
      "Epoch 2/20\n",
      "4/4 [==============================] - 3s 553ms/step - loss: 0.6515 - accuracy: 0.5469 - val_loss: 0.6449 - val_accuracy: 0.8438\n",
      "Epoch 3/20\n",
      "4/4 [==============================] - 3s 581ms/step - loss: 0.6265 - accuracy: 0.7734 - val_loss: 0.5400 - val_accuracy: 0.8750\n",
      "Epoch 4/20\n",
      "4/4 [==============================] - 3s 620ms/step - loss: 0.5684 - accuracy: 0.7266 - val_loss: 0.4710 - val_accuracy: 0.8750\n",
      "Epoch 5/20\n",
      "4/4 [==============================] - 3s 573ms/step - loss: 0.5234 - accuracy: 0.7812 - val_loss: 0.3916 - val_accuracy: 0.8594\n",
      "Epoch 6/20\n",
      "4/4 [==============================] - 3s 566ms/step - loss: 0.4094 - accuracy: 0.8984 - val_loss: 0.3695 - val_accuracy: 0.8750\n",
      "Epoch 7/20\n",
      "4/4 [==============================] - 3s 504ms/step - loss: 0.3149 - accuracy: 0.8594 - val_loss: 0.3146 - val_accuracy: 0.8438\n",
      "Epoch 8/20\n",
      "4/4 [==============================] - 2s 528ms/step - loss: 0.2515 - accuracy: 0.9062 - val_loss: 0.2351 - val_accuracy: 0.9062\n",
      "Epoch 9/20\n",
      "4/4 [==============================] - 3s 548ms/step - loss: 0.1975 - accuracy: 0.9297 - val_loss: 0.2454 - val_accuracy: 0.8750\n",
      "Epoch 10/20\n",
      "4/4 [==============================] - 3s 547ms/step - loss: 0.1951 - accuracy: 0.9297 - val_loss: 0.1248 - val_accuracy: 0.9531\n",
      "Epoch 11/20\n",
      "4/4 [==============================] - 2s 488ms/step - loss: 0.1347 - accuracy: 0.9375 - val_loss: 0.1191 - val_accuracy: 0.9688\n",
      "Epoch 12/20\n",
      "4/4 [==============================] - 2s 511ms/step - loss: 0.1091 - accuracy: 0.9609 - val_loss: 0.0363 - val_accuracy: 1.0000\n",
      "Epoch 13/20\n",
      "4/4 [==============================] - 3s 559ms/step - loss: 0.0815 - accuracy: 0.9766 - val_loss: 0.0585 - val_accuracy: 1.0000\n",
      "Epoch 14/20\n",
      "4/4 [==============================] - 2s 518ms/step - loss: 0.0746 - accuracy: 0.9766 - val_loss: 0.0795 - val_accuracy: 0.9688\n",
      "Epoch 15/20\n",
      "4/4 [==============================] - 3s 565ms/step - loss: 0.0535 - accuracy: 0.9922 - val_loss: 0.0652 - val_accuracy: 0.9844\n",
      "Epoch 16/20\n",
      "4/4 [==============================] - 3s 608ms/step - loss: 0.0741 - accuracy: 0.9688 - val_loss: 0.0338 - val_accuracy: 1.0000\n",
      "Epoch 17/20\n",
      "4/4 [==============================] - 2s 513ms/step - loss: 0.0380 - accuracy: 0.9844 - val_loss: 0.0568 - val_accuracy: 0.9688\n",
      "Epoch 18/20\n",
      "4/4 [==============================] - 3s 560ms/step - loss: 0.0315 - accuracy: 0.9922 - val_loss: 0.0378 - val_accuracy: 0.9844\n",
      "Epoch 19/20\n",
      "4/4 [==============================] - 3s 555ms/step - loss: 0.0234 - accuracy: 0.9922 - val_loss: 0.0325 - val_accuracy: 0.9844\n",
      "Epoch 20/20\n",
      "4/4 [==============================] - 3s 609ms/step - loss: 0.0296 - accuracy: 0.9844 - val_loss: 0.0378 - val_accuracy: 0.9688\n"
     ]
    }
   ],
   "source": [
    "hist=model.fit(train,epochs=20,validation_data=val,callbacks=[tensorboard_callback])"
   ]
  },
  {
   "cell_type": "markdown",
   "id": "7c504841-8899-45de-b996-00334ae70bf3",
   "metadata": {},
   "source": [
    "Evaluate and Performance"
   ]
  },
  {
   "cell_type": "code",
   "execution_count": 29,
   "id": "fd7f1d7a-fb57-447d-88fc-ea52702e9a41",
   "metadata": {},
   "outputs": [],
   "source": [
    "from tensorflow.keras.metrics import Precision,Recall,BinaryAccuracy"
   ]
  },
  {
   "cell_type": "code",
   "execution_count": 30,
   "id": "65aa598f-2e8c-4954-910a-fcf9add97cc9",
   "metadata": {},
   "outputs": [],
   "source": [
    "pre=Precision()\n",
    "re=Recall()\n",
    "acc=BinaryAccuracy()"
   ]
  },
  {
   "cell_type": "code",
   "execution_count": 31,
   "id": "723039d0-242f-4491-a42f-e2103c2d3ae8",
   "metadata": {},
   "outputs": [
    {
     "name": "stdout",
     "output_type": "stream",
     "text": [
      "1/1 [==============================] - 0s 174ms/step\n"
     ]
    }
   ],
   "source": [
    "for batch in test.as_numpy_iterator():\n",
    "    X,Y=batch\n",
    "    yhat=model.predict(X)\n",
    "    pre.update_state(Y,yhat)\n",
    "    re.update_state(Y,yhat)\n",
    "    acc.update_state(Y,yhat)"
   ]
  },
  {
   "cell_type": "code",
   "execution_count": 32,
   "id": "2a74cecd-f5d1-47e6-9b6b-bcbbcd93a158",
   "metadata": {},
   "outputs": [
    {
     "name": "stdout",
     "output_type": "stream",
     "text": [
      "Precision:1.0,Recall:1.0,Accuracy:1.0\n"
     ]
    }
   ],
   "source": [
    "print(f'Precision:{pre.result().numpy()},Recall:{re.result().numpy()},Accuracy:{acc.result().numpy()}')"
   ]
  },
  {
   "cell_type": "markdown",
   "id": "cbc08547-99b4-4f78-8580-aee6da58dc97",
   "metadata": {},
   "source": [
    "TEST"
   ]
  },
  {
   "cell_type": "code",
   "execution_count": 59,
   "id": "4ef27a3c-d5a5-4e03-ab53-64bb0dc1987a",
   "metadata": {},
   "outputs": [],
   "source": [
    "path=\"C:\\\\Users\\\\91954\\\\OneDrive\\\\Desktop\\\\datasets\\\\240_F_671059717_OAlmXdOfyZiunLuzQqCjZ4FBwa0NZCel.jpg\"\n",
    "\n",
    "img=cv2.imread(path)\n",
    "resize=tf.image.resize(img,(256,256))"
   ]
  },
  {
   "cell_type": "code",
   "execution_count": 60,
   "id": "39c6edba-a94f-4e98-845b-8af07b32f547",
   "metadata": {},
   "outputs": [
    {
     "data": {
      "text/plain": [
       "(1, 256, 256, 3)"
      ]
     },
     "execution_count": 60,
     "metadata": {},
     "output_type": "execute_result"
    }
   ],
   "source": [
    "np.expand_dims(resize,0).shape"
   ]
  },
  {
   "cell_type": "code",
   "execution_count": 61,
   "id": "7bd03c1f-2813-4d8a-8f5a-3a07df38db71",
   "metadata": {},
   "outputs": [
    {
     "name": "stdout",
     "output_type": "stream",
     "text": [
      "1/1 [==============================] - 0s 44ms/step\n"
     ]
    }
   ],
   "source": [
    "yhat=model.predict(np.expand_dims(resize/255,0))"
   ]
  },
  {
   "cell_type": "code",
   "execution_count": 62,
   "id": "6a09f927-037b-4bcf-ba41-c97a51b09906",
   "metadata": {},
   "outputs": [
    {
     "data": {
      "text/plain": [
       "array([[0.99998343]], dtype=float32)"
      ]
     },
     "execution_count": 62,
     "metadata": {},
     "output_type": "execute_result"
    }
   ],
   "source": [
    "yhat"
   ]
  },
  {
   "cell_type": "code",
   "execution_count": 63,
   "id": "0abffa28-cb0d-40ad-90aa-1b75a18c231f",
   "metadata": {},
   "outputs": [
    {
     "name": "stdout",
     "output_type": "stream",
     "text": [
      "Predicted class is Sad\n"
     ]
    }
   ],
   "source": [
    "if yhat<0.5:\n",
    "    print(\"Predicted class is Happy\")\n",
    "else:\n",
    "    print(\"Predicted class is Sad\")"
   ]
  },
  {
   "cell_type": "markdown",
   "id": "71f91daa-8ce6-4880-8f86-9620b7bf6e59",
   "metadata": {},
   "source": [
    "SAVE MODEL"
   ]
  },
  {
   "cell_type": "code",
   "execution_count": 64,
   "id": "4c378392-aca5-4941-b7c8-42076db8e8e8",
   "metadata": {},
   "outputs": [],
   "source": [
    "from tensorflow.keras.models import load_model"
   ]
  },
  {
   "cell_type": "code",
   "execution_count": 65,
   "id": "48ecccd4-6df4-476a-a58a-0057c986cb04",
   "metadata": {},
   "outputs": [],
   "source": [
    "model_path='C:\\\\Users\\\\91954\\\\OneDrive\\\\Desktop\\\\Models'"
   ]
  },
  {
   "cell_type": "code",
   "execution_count": 67,
   "id": "1b1f0867-b4aa-4221-99f9-0f15826cb7fd",
   "metadata": {},
   "outputs": [],
   "source": [
    "model.save(os.path.join(model_path,'HappySadModel.h5'))"
   ]
  },
  {
   "cell_type": "code",
   "execution_count": 68,
   "id": "ed30acb0-a2b1-418d-8369-e79764fbf208",
   "metadata": {},
   "outputs": [],
   "source": [
    "new_model=load_model(os.path.join(model_path,'HappySadModel.h5'))"
   ]
  },
  {
   "cell_type": "code",
   "execution_count": 69,
   "id": "72bc8e61-1561-44aa-aa22-5ae68bd9e173",
   "metadata": {},
   "outputs": [
    {
     "name": "stdout",
     "output_type": "stream",
     "text": [
      "1/1 [==============================] - 0s 184ms/step\n"
     ]
    }
   ],
   "source": [
    "yhatn=new_model.predict(np.expand_dims(resize/255,0))"
   ]
  },
  {
   "cell_type": "code",
   "execution_count": 70,
   "id": "b0fec036-c765-4ba7-a861-8291481162ed",
   "metadata": {},
   "outputs": [
    {
     "data": {
      "text/plain": [
       "array([[0.99998343]], dtype=float32)"
      ]
     },
     "execution_count": 70,
     "metadata": {},
     "output_type": "execute_result"
    }
   ],
   "source": [
    "yhatn"
   ]
  },
  {
   "cell_type": "code",
   "execution_count": 71,
   "id": "1fa152aa-1c03-42cf-8824-13545b5d7c31",
   "metadata": {},
   "outputs": [
    {
     "name": "stdout",
     "output_type": "stream",
     "text": [
      "Predicted class is Sad\n"
     ]
    }
   ],
   "source": [
    "if yhatn<0.5:\n",
    "    print(\"Predicted class is Happy\")\n",
    "else:\n",
    "    print(\"Predicted class is Sad\")"
   ]
  },
  {
   "cell_type": "code",
   "execution_count": null,
   "id": "9f373d3e-8267-4408-8c53-8b8592ac2a8a",
   "metadata": {},
   "outputs": [],
   "source": []
  }
 ],
 "metadata": {
  "kernelspec": {
   "display_name": "Python 3 (ipykernel)",
   "language": "python",
   "name": "python3"
  },
  "language_info": {
   "codemirror_mode": {
    "name": "ipython",
    "version": 3
   },
   "file_extension": ".py",
   "mimetype": "text/x-python",
   "name": "python",
   "nbconvert_exporter": "python",
   "pygments_lexer": "ipython3",
   "version": "3.9.18"
  }
 },
 "nbformat": 4,
 "nbformat_minor": 5
}
